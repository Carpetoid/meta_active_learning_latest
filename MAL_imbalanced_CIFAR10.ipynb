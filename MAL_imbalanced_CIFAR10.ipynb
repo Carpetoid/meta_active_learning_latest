{
 "cells": [
  {
   "cell_type": "code",
   "execution_count": 1,
   "metadata": {},
   "outputs": [
    {
     "data": {
      "text/plain": [
       "<matplotlib.pyplot._IonContext at 0x1543726795b0>"
      ]
     },
     "execution_count": 1,
     "metadata": {},
     "output_type": "execute_result"
    }
   ],
   "source": [
    "# load packages\n",
    "from __future__ import print_function, division\n",
    "from operator import itemgetter\n",
    "import os\n",
    "import time\n",
    "import numpy as np\n",
    "import pdb\n",
    "import torch\n",
    "import torch.nn as nn\n",
    "import torch.optim as optim\n",
    "import torch.nn.functional as F\n",
    "from torch.optim import lr_scheduler\n",
    "import torchvision\n",
    "from torchvision import datasets, models, transforms\n",
    "from torch.utils.data.sampler import SubsetRandomSampler\n",
    "from torchsummary import summary\n",
    "from PIL import Image\n",
    "import matplotlib.pyplot as plt\n",
    "from collections import Counter\n",
    "plt.ion()   # interactive mode\n"
   ]
  },
  {
   "cell_type": "code",
   "execution_count": 2,
   "metadata": {},
   "outputs": [
    {
     "data": {
      "text/plain": [
       "True"
      ]
     },
     "execution_count": 2,
     "metadata": {},
     "output_type": "execute_result"
    }
   ],
   "source": [
    "torch.cuda.is_available()"
   ]
  },
  {
   "cell_type": "code",
   "execution_count": 3,
   "metadata": {},
   "outputs": [],
   "source": [
    "class IMBALANCECIFAR10(torchvision.datasets.CIFAR10):\n",
    "    cls_num = 10\n",
    "\n",
    "    def __init__(self, root, imb_type='exp', imb_factor=0.04, rand_number=0, train=True,\n",
    "                 transform=None, target_transform=None,\n",
    "                 download=True):\n",
    "        super(IMBALANCECIFAR10, self).__init__(root, train, transform, target_transform, download)\n",
    "        np.random.seed(rand_number)\n",
    "        img_num_list = self.get_img_num_per_cls(self.cls_num, imb_type, imb_factor)\n",
    "        self.gen_imbalanced_data(img_num_list)\n",
    "\n",
    "    def get_img_num_per_cls(self, cls_num, imb_type, imb_factor):\n",
    "        img_max = len(self.data) / cls_num\n",
    "       # img_max = 6000\n",
    "        img_num_per_cls = []\n",
    "        if imb_type == 'exp':\n",
    "            for cls_idx in range(cls_num):\n",
    "                num = img_max * (imb_factor**(cls_idx / (cls_num - 1.0)))\n",
    "                img_num_per_cls.append(int(num))\n",
    "        elif imb_type == 'step':\n",
    "            for cls_idx in range(cls_num // 2):\n",
    "                img_num_per_cls.append(int(img_max))\n",
    "            for cls_idx in range(cls_num // 2):\n",
    "                img_num_per_cls.append(int(img_max * imb_factor))\n",
    "        else:\n",
    "            img_num_per_cls.extend([int(img_max)] * cls_num)\n",
    "        return img_num_per_cls\n",
    "\n",
    "    def gen_imbalanced_data(self, img_num_per_cls):\n",
    "        new_data = []\n",
    "        new_targets = []\n",
    "        targets_np = np.array(self.targets, dtype=np.int64)\n",
    "        classes = np.unique(targets_np)\n",
    "        # np.random.shuffle(classes)\n",
    "        self.num_per_cls_dict = dict()\n",
    "        for the_class, the_img_num in zip(classes, img_num_per_cls):\n",
    "            self.num_per_cls_dict[the_class] = the_img_num\n",
    "            idx = np.where(targets_np == the_class)[0]\n",
    "            np.random.shuffle(idx)\n",
    "            selec_idx = idx[:the_img_num]\n",
    "            new_data.append(self.data[selec_idx, ...])\n",
    "            new_targets.extend([the_class, ] * the_img_num)\n",
    "        new_data = np.vstack(new_data)\n",
    "        self.data = new_data\n",
    "        self.targets = new_targets\n",
    "        \n",
    "    def get_cls_num_list(self):\n",
    "        cls_num_list = []\n",
    "        for i in range(self.cls_num):\n",
    "            cls_num_list.append(self.num_per_cls_dict[i])\n",
    "        return cls_num_list\n",
    "    \n",
    "\n",
    "        \n",
    "    \n",
    "        \n",
    "\n",
    "class IMBALANCECIFAR100(IMBALANCECIFAR10):\n",
    "    \"\"\"`CIFAR100 <https://www.cs.toronto.edu/~kriz/cifar.html>`_ Dataset.\n",
    "    This is a subclass of the `CIFAR10` Dataset.\n",
    "    \"\"\"\n",
    "    base_folder = 'cifar-100-python'\n",
    "    url = \"https://www.cs.toronto.edu/~kriz/cifar-100-python.tar.gz\"\n",
    "    filename = \"cifar-100-python.tar.gz\"\n",
    "    tgz_md5 = 'eb9058c3a382ffc7106e4002c42a8d85'\n",
    "    train_list = [\n",
    "        ['train', '16019d7e3df5f24257cddd939b257f8d'],\n",
    "    ]\n",
    "\n",
    "    test_list = [\n",
    "        ['test', 'f0ef6b0ae62326f3e7ffdfab6717acfc'],\n",
    "    ]\n",
    "    meta = {\n",
    "        'filename': 'meta',\n",
    "        'key': 'fine_label_names',\n",
    "        'md5': '7973b15100ade9c7d40fb424638fde48',\n",
    "    }\n",
    "    cls_num = 100"
   ]
  },
  {
   "cell_type": "code",
   "execution_count": 4,
   "metadata": {
    "colab": {},
    "colab_type": "code",
    "id": "EtxYeHjRVO9S"
   },
   "outputs": [],
   "source": [
    "# Data augmentation and normalization for training\n",
    "# Just normalization for testing\n",
    "data_transforms = {\n",
    "    'train': transforms.Compose([\n",
    "        # TODO 1, data transform for train set. Use RandomHorizontalFlip function for data augumentation\n",
    "        ################################ TODO ##################################\n",
    "        transforms.RandomHorizontalFlip(0.5),\n",
    "        transforms.ToTensor(),\n",
    "        transforms.Normalize((0.5,0.5,0.5),(0.5,0.5,0.5))\n",
    "        ################################ TODO ##################################\n",
    "    ]),\n",
    "    'test': transforms.Compose([\n",
    "        transforms.ToTensor(),\n",
    "        transforms.Normalize((0.5, 0.5, 0.5), (0.5, 0.5, 0.5)),\n",
    "    ])\n",
    "}\n"
   ]
  },
  {
   "cell_type": "code",
   "execution_count": 5,
   "metadata": {},
   "outputs": [],
   "source": [
    "torch.cuda.set_device('cuda:0')"
   ]
  },
  {
   "cell_type": "code",
   "execution_count": 6,
   "metadata": {},
   "outputs": [
    {
     "name": "stdout",
     "output_type": "stream",
     "text": [
      "Files already downloaded and verified\n",
      "Files already downloaded and verified\n"
     ]
    }
   ],
   "source": [
    "# Load CIFAR10 (imbalanced)\n",
    "\n",
    "image_datasets= {'train': IMBALANCECIFAR10(root='./data', train=(True), download=True, transform=data_transforms['train']), 'test': torchvision.datasets.CIFAR10(root='./data', train=(False), download=True, transform=data_transforms['test'])}\n",
    "dataloaders = {x: torch.utils.data.DataLoader(image_datasets[x], batch_size=32, shuffle=(x=='train'), num_workers=16) for x in ['train', 'test']}\n",
    "dataset_sizes = {x: len(image_datasets[x]) for x in ['train', 'test']}\n",
    "class_names = image_datasets['train'].classes\n",
    "#print(dataset_sizes)\n",
    "# Move to GPU\n",
    "device = torch.device(\"cuda:0\")\n"
   ]
  },
  {
   "cell_type": "code",
   "execution_count": 7,
   "metadata": {},
   "outputs": [
    {
     "data": {
      "text/plain": [
       "'NVIDIA TITAN Xp'"
      ]
     },
     "execution_count": 7,
     "metadata": {},
     "output_type": "execute_result"
    }
   ],
   "source": [
    "torch.cuda.get_device_name()"
   ]
  },
  {
   "cell_type": "code",
   "execution_count": 8,
   "metadata": {},
   "outputs": [
    {
     "data": {
      "text/plain": [
       "0"
      ]
     },
     "execution_count": 8,
     "metadata": {},
     "output_type": "execute_result"
    }
   ],
   "source": [
    "torch.cuda.current_device()"
   ]
  },
  {
   "cell_type": "code",
   "execution_count": 9,
   "metadata": {},
   "outputs": [
    {
     "data": {
      "text/plain": [
       "(6, 1)"
      ]
     },
     "execution_count": 9,
     "metadata": {},
     "output_type": "execute_result"
    }
   ],
   "source": [
    "torch.cuda.get_device_capability()"
   ]
  },
  {
   "cell_type": "code",
   "execution_count": 10,
   "metadata": {},
   "outputs": [
    {
     "data": {
      "text/plain": [
       "2"
      ]
     },
     "execution_count": 10,
     "metadata": {},
     "output_type": "execute_result"
    }
   ],
   "source": [
    "torch.cuda.device_count()"
   ]
  },
  {
   "cell_type": "code",
   "execution_count": 11,
   "metadata": {},
   "outputs": [
    {
     "data": {
      "text/plain": [
       "{'train': <torch.utils.data.dataloader.DataLoader at 0x1542539599a0>,\n",
       " 'test': <torch.utils.data.dataloader.DataLoader at 0x154253959f70>}"
      ]
     },
     "execution_count": 11,
     "metadata": {},
     "output_type": "execute_result"
    }
   ],
   "source": [
    "dataloaders"
   ]
  },
  {
   "cell_type": "code",
   "execution_count": 12,
   "metadata": {},
   "outputs": [
    {
     "name": "stdout",
     "output_type": "stream",
     "text": [
      "{3: 1000, 8: 1000, 0: 1000, 6: 1000, 1: 1000, 9: 1000, 5: 1000, 7: 1000, 4: 1000, 2: 1000}\n",
      "{0: 5000, 1: 3496, 2: 2445, 3: 1709, 4: 1195, 5: 836, 6: 584, 7: 408, 8: 285, 9: 200}\n"
     ]
    }
   ],
   "source": [
    "\n",
    "#image_datasets['train'].get_cls_num_list()\n",
    "print(dict(Counter(image_datasets['test'].targets)))\n",
    "print(dict(Counter(image_datasets['train'].targets)))"
   ]
  },
  {
   "cell_type": "code",
   "execution_count": 13,
   "metadata": {},
   "outputs": [],
   "source": [
    "\n",
    "class MyNet(nn.Module):\n",
    "\n",
    "    def __init__(self):\n",
    "        super(MyNet, self).__init__()\n",
    "\n",
    "        self.convs = nn.Sequential(\n",
    "            nn.Conv2d(3, 64, (3,3), stride=(1,1),padding=1),\n",
    "            nn.BatchNorm2d(64),\n",
    "            nn.ReLU(),\n",
    "            \n",
    "            nn.Conv2d(64, 64, (3,3), stride=(1,1), padding=1),\n",
    "            nn.BatchNorm2d(64),\n",
    "            nn.ReLU(),\n",
    "            \n",
    "            nn.MaxPool2d(kernel_size=2, stride=2, padding=0, ceil_mode=False),            \n",
    "            \n",
    "            nn.Conv2d(64, 128, (3,3), padding=1),\n",
    "            nn.BatchNorm2d(128),\n",
    "            nn.ReLU(),\n",
    "            \n",
    "            \n",
    "            nn.Conv2d(128, 128, (3,3),padding=1),\n",
    "            nn.BatchNorm2d(128),            \n",
    "            nn.ReLU(),\n",
    "            \n",
    "            nn.MaxPool2d(2, stride=2),            \n",
    "            \n",
    "            nn.Conv2d(128, 256, (3,3),padding=1),\n",
    "            nn.BatchNorm2d(256),            \n",
    "            nn.ReLU(),         \n",
    "            \n",
    "            nn.Conv2d(256, 256, (3,3),padding=1),\n",
    "            nn.BatchNorm2d(256),            \n",
    "            nn.ReLU(),  \n",
    "            \n",
    "            nn.MaxPool2d(2, stride=2),\n",
    "            \n",
    "            nn.Conv2d(256, 512, (3,3),padding=1),\n",
    "            nn.BatchNorm2d(512),            \n",
    "            nn.ReLU(),\n",
    "            \n",
    "            nn.Conv2d(512, 512, (3,3),padding=1),\n",
    "            nn.BatchNorm2d(512),            \n",
    "            nn.ReLU(),\n",
    "            \n",
    "            nn.MaxPool2d(2, stride=2),\n",
    "            \n",
    "            nn.Conv2d(512, 512, (3,3),padding=1),\n",
    "            nn.BatchNorm2d(512),            \n",
    "            nn.ReLU(),\n",
    "            \n",
    "            nn.Conv2d(512, 512, (3,3),padding=1),\n",
    "            nn.BatchNorm2d(512),            \n",
    "            nn.ReLU(),\n",
    "            \n",
    "            nn.MaxPool2d(2, stride=2)\n",
    "        )\n",
    "        self.linear = nn.Sequential(\n",
    "            nn.Linear(512,128),\n",
    "            nn.Dropout(p=0.4),\n",
    "            nn.Linear(128,10)\n",
    "        )    \n",
    "    def forward(self, x):\n",
    "\n",
    "        x = self.convs(x)\n",
    "        x = x.view(-1, 512)\n",
    "\n",
    "        x = self.linear(x)\n",
    "        return x\n",
    "\n"
   ]
  },
  {
   "cell_type": "code",
   "execution_count": 14,
   "metadata": {
    "colab": {},
    "colab_type": "code",
    "id": "A_Y2cgPEVO9X"
   },
   "outputs": [],
   "source": [
    "def train_model(model, criterion, optimizer, num_epochs, dataloader, size=None, save_path='saved_weight.pth'):\n",
    "    since = time.time()\n",
    "    loss_record = [] # Frost: for plot\n",
    "    dataset_sizes_train = size\n",
    "    for epoch in range(num_epochs):\n",
    "        print('Epoch {}/{}'.format(epoch, num_epochs))\n",
    "        print('-' * 10)\n",
    "\n",
    "        # Each epoch has a training and validation phase\n",
    "        for phase in ['train']:\n",
    "            if phase == 'train': model.train()  # Set model to training mode\n",
    "\n",
    "            running_loss = 0.0\n",
    "            running_corrects = 0\n",
    "\n",
    "            # Iterate over data.\n",
    "            for inputs, labels in dataloader[phase]:\n",
    "                inputs = inputs.to(device)\n",
    "                labels = labels.to(device)\n",
    "\n",
    "                # zero the parameter gradients\n",
    "                optimizer.zero_grad()\n",
    "                #import pdb; pdb.set_trace()\n",
    "                # forward\n",
    "                # track history if only in train\n",
    "                with torch.set_grad_enabled(phase == 'train'):\n",
    "                    outputs = model(inputs)\n",
    "                    _, preds = torch.max(outputs, 1)\n",
    "                    loss = criterion(outputs, labels)\n",
    "\n",
    "                    # backward + optimize only if in training phase\n",
    "                    if phase == 'train':\n",
    "                        loss.backward()\n",
    "                        optimizer.step()\n",
    "\n",
    "                # statistics\n",
    "                running_loss += loss.item() * inputs.size(0)\n",
    "                running_corrects += torch.sum(preds == labels.data)\n",
    "\n",
    "            epoch_loss = running_loss / dataset_sizes_train\n",
    "            epoch_acc = running_corrects.double() / dataset_sizes_train\n",
    "\n",
    "            print('{} Loss: {:.4f} Acc: {:.4f}'.format(phase, epoch_loss, epoch_acc))\n",
    "            loss_record.append(epoch_loss)\n",
    "            \n",
    "        torch.save(model.state_dict(), save_path)\n",
    "        model_test = model\n",
    "        test_model(model_test, save_path)\n",
    "    print()\n",
    "\n",
    "    plt.plot(loss_record)\n",
    "\n",
    "    time_elapsed = time.time() - since\n",
    "    print('Training complete in {:.0f}m {:.0f}s'.format(time_elapsed // 60, time_elapsed % 60))\n",
    "    \n",
    "    torch.save(model.state_dict(), save_path)\n",
    "    model_test = model\n",
    "    test_model(model, save_path)\n",
    "    return model"
   ]
  },
  {
   "cell_type": "code",
   "execution_count": 15,
   "metadata": {
    "colab": {},
    "colab_type": "code",
    "id": "GtE6iv9rVO9w"
   },
   "outputs": [],
   "source": [
    "def test_model(model, load_path='saved_weight.pth'):    \n",
    "    # load the model weights\n",
    "    model.load_state_dict(torch.load(load_path))\n",
    "    \n",
    "    since = time.time()\n",
    "\n",
    "    for phase in ['test']:\n",
    "        if phase == 'test':\n",
    "            model.eval()   # Set model to evaluate mode\n",
    "\n",
    "        running_loss = 0.0\n",
    "        running_corrects = 0\n",
    "\n",
    "        # Iterate over data.\n",
    "        for inputs, labels in dataloaders[phase]:\n",
    "            inputs = inputs.to(device)\n",
    "            labels = labels.to(device)\n",
    "\n",
    "            with torch.no_grad():\n",
    "                ################################ TODO ##################################\n",
    "                outputs = model(inputs)\n",
    "                preds = torch.max(outputs, 1)[1]\n",
    "                ################################ TODO ##################################\n",
    "\n",
    "            # statistics\n",
    "            running_corrects += torch.sum(preds == labels.data)\n",
    "        epoch_acc = running_corrects.double() / dataset_sizes[phase]\n",
    "\n",
    "        print('{} Acc: {:.4f}'.format(phase, epoch_acc))\n",
    "\n",
    "    time_elapsed = time.time() - since\n",
    "    print('Testing complete in {:.0f}m {:.0f}s'.format(time_elapsed // 60, time_elapsed % 60))\n",
    "\n",
    "    return epoch_acc\n",
    "\n",
    "\n",
    "\n",
    "\n",
    "\n",
    "\n",
    "      "
   ]
  },
  {
   "cell_type": "code",
   "execution_count": 16,
   "metadata": {},
   "outputs": [],
   "source": [
    "def gen_accuracy_per_cls(model, load_path='saved_weight.pth'):\n",
    "    # load the model weights\n",
    "    model.load_state_dict(torch.load(load_path))\n",
    "    model.eval()   # Set model to evaluate mode\n",
    "\n",
    "\n",
    "    accrcy_pr_clss = {}\n",
    "\n",
    "    # Iterate over data.\n",
    "    for inputs, labels in dataloaders['test']:\n",
    "        inputs = inputs.to(device)\n",
    "        labels = labels.to(device)\n",
    "\n",
    "        with torch.no_grad():\n",
    "\n",
    "            outputs = model(inputs) \n",
    "            preds = torch.max(outputs, 1)[1]\n",
    "            for i, y in zip(labels, preds):\n",
    "\n",
    "                if i.item() not in accrcy_pr_clss:\n",
    "                    if y == i:\n",
    "                        accrcy_pr_clss[i.item()] = 1\n",
    "                    else:\n",
    "                        continue \n",
    "                else:\n",
    "                    if y == i:\n",
    "                        accrcy_pr_clss[i.item()] += 1\n",
    "                    else:\n",
    "                        continue\n",
    "    sort = {}\n",
    "    for i in range(10):\n",
    "        for x in accrcy_pr_clss:\n",
    "            if i == x:\n",
    "                sort[i] = accrcy_pr_clss[x]\n",
    "\n",
    "    return sort"
   ]
  },
  {
   "cell_type": "code",
   "execution_count": 17,
   "metadata": {},
   "outputs": [],
   "source": [
    "class dataset_most_inform():\n",
    "    def __init__(self, image_tensor, labels, transform=data_transforms, target_transform=None):\n",
    "        self.img_labels = labels #list\n",
    "        self.img_tensors = image_tensor #also list\n",
    "        self.transform = transform\n",
    "        self.target_transform = target_transform\n",
    "\n",
    "    def __len__(self):\n",
    "        return len(self.img_labels)\n",
    "\n",
    "    def __getitem__(self, idx):\n",
    "        image = self.img_tensors[idx]\n",
    "        label = self.img_labels[idx]\n",
    "\n",
    "        return image, label\n",
    "\n",
    "\n",
    "    \n",
    "def sampling(model, dataset, load_path='saved_weight.pth'):\n",
    "    model.load_state_dict(torch.load(load_path)) \n",
    "    cifar10 = dataset\n",
    "    class_list = cifar10.get_cls_num_list()\n",
    "    class_freq = {}\n",
    "  \n",
    "    for i, x in zip(cifar10.class_to_idx, class_list):\n",
    "        class_freq[cifar10.class_to_idx[i]] = x\n",
    "    \n",
    "    #HARD CODED!!\n",
    "    smallest = class_freq[5]\n",
    "\n",
    "    #HARDCODED\n",
    "\n",
    "\n",
    "    model.eval()   \n",
    "\n",
    "    num_samples = smallest\n",
    "    class_to_samples = {}\n",
    "    for k in range(10):\n",
    "\n",
    "        for inputs, labels in dataloaders['train']:\n",
    "            inputs = inputs.to(device)\n",
    "            labels = labels.to(device)\n",
    "            with torch.no_grad():\n",
    "                outputs = model(inputs) \n",
    "                preds = torch.max(outputs, 1)[1]\n",
    "                softmax = nn.Softmax(dim=1)\n",
    "                prob = softmax(outputs)\n",
    "                #image by image\n",
    "                for i, y, z, x in zip(prob, inputs, labels, preds):\n",
    "                    if z.item() == k:\n",
    "                        if k not in class_to_samples:\n",
    "                            class_to_samples[k]= [[y, z, i[k]]]\n",
    "                        else:\n",
    "                            class_to_samples[k] += [[y, z, i[k]]]\n",
    "\n",
    "    #HARDCODED!!\n",
    "    no_sampling = [5, 6, 7, 8, 9]\n",
    "    #HARDCODED!!\n",
    "    dataset_dct = {}\n",
    "     \n",
    "    for i in class_to_samples:\n",
    "        class_to_samples[i] = sorted(class_to_samples[i], key=itemgetter(2))\n",
    "  \n",
    "    for i in class_to_samples:\n",
    "        if i in no_sampling:\n",
    "            dataset_dct[i] = []\n",
    "            for s in class_to_samples[i]: \n",
    "                dataset_dct[i] += [s]\n",
    "                \n",
    "        dataset_dct[i] = []\n",
    "        count = 0\n",
    "        for s in class_to_samples[i]:\n",
    "            if count == smallest:\n",
    "                break\n",
    "            count += 1\n",
    "            dataset_dct[i] += [s]\n",
    "    \n",
    "#     for i in dataset_dct:\n",
    "#         for s in dataset_dct[i]:\n",
    "#             print(len(dataset_dct[i]), s)\n",
    "   \n",
    "    lst_images = []\n",
    "    lst_labels = []\n",
    "    for i in dataset_dct:\n",
    "        for s in dataset_dct[i]:\n",
    "            lst_images.append(s[0])\n",
    "            lst_labels.append(s[1])\n",
    "   \n",
    "    dataset_sampled = dataset_most_inform(lst_images, lst_labels)\n",
    "\n",
    "    New_dataloader = {'train': torch.utils.data.DataLoader(dataset_sampled, batch_size=32, shuffle=True)}#, num_workers=16)}\n",
    "\n",
    "    return New_dataloader, len(dataset_sampled)\n",
    "\n",
    "\n",
    "      \n",
    "\n"
   ]
  },
  {
   "cell_type": "code",
   "execution_count": 18,
   "metadata": {},
   "outputs": [
    {
     "name": "stdout",
     "output_type": "stream",
     "text": [
      "Files already downloaded and verified\n"
     ]
    }
   ],
   "source": [
    "cifar10 = IMBALANCECIFAR10(root='./data')\n",
    "class_list = cifar10.get_cls_num_list()\n",
    "class_freq = {}\n",
    "\n",
    "for i, x in zip(cifar10.class_to_idx, class_list):\n",
    "    class_freq[cifar10.class_to_idx[i]] = x"
   ]
  },
  {
   "cell_type": "code",
   "execution_count": 19,
   "metadata": {
    "scrolled": false
   },
   "outputs": [
    {
     "data": {
      "text/plain": [
       "{0: 5000,\n",
       " 1: 3496,\n",
       " 2: 2445,\n",
       " 3: 1709,\n",
       " 4: 1195,\n",
       " 5: 836,\n",
       " 6: 584,\n",
       " 7: 408,\n",
       " 8: 285,\n",
       " 9: 200}"
      ]
     },
     "execution_count": 19,
     "metadata": {},
     "output_type": "execute_result"
    }
   ],
   "source": [
    "class_freq\n"
   ]
  },
  {
   "cell_type": "code",
   "execution_count": 20,
   "metadata": {},
   "outputs": [
    {
     "data": {
      "image/png": "[encoded data removed]",
      "text/plain": [
       "<Figure size 432x288 with 1 Axes>"
      ]
     },
     "metadata": {
      "needs_background": "light"
     },
     "output_type": "display_data"
    }
   ],
   "source": [
    "a = plt.bar([i for i in class_freq], [class_freq[i] for i in class_freq], width=0.7)\n",
    "plt.ylabel('number of samples')\n",
    "plt.xlabel(\"class label\" )\n",
    "plt.xticks([i for i in range(10)], [i for i in class_freq])\n",
    "plt.title('CIFAR10 Long-Tail Class Distrubtion, ρ=25')\n",
    "plt.tight_layout()\n",
    "plt.savefig('/home/thafarma/figures/figures/class_distro_long-tail')\n",
    "plt.show()\n"
   ]
  },
  {
   "cell_type": "code",
   "execution_count": 21,
   "metadata": {},
   "outputs": [],
   "source": [
    "from copy import deepcopy\n",
    "def MAL(model, criterion, optimizer, do_meta=False, eps=0.1,total_epochs=50, pretrained_epochs=25,inner_epochs=10, save_path='saved_weight.pth'):\n",
    "\n",
    "\n",
    "    # pretrain the model\n",
    "    train_model(model, criterion, optimizer, pretrained_epochs, dataloaders,dataset_sizes['train'], save_path)\n",
    "    \n",
    "    \n",
    "    # load the data and sample the data\n",
    "    cifar10 = IMBALANCECIFAR10(root='./data')\n",
    "    meta_epochs = total_epochs - pretrained_epochs\n",
    "    iter_1_loader, sampled_size = sampling(model, cifar10, save_path)\n",
    "    original_datasize = dataset_sizes['train']\n",
    "    \n",
    "    # do the meta epochs  \n",
    "    for meta_epoch in range(int(original_datasize*meta_epochs/(sampled_size*inner_epochs))):\n",
    "        prev_model_params = deepcopy(model.state_dict())\n",
    "        train_model(model, criterion, optimizer, inner_epochs, iter_1_loader, sampled_size, save_path)\n",
    "        current_model_params = deepcopy(model.state_dict())\n",
    "        #import pdb; pdb.set_trace()\n",
    "        \n",
    "        for param_name in current_model_params.keys():\n",
    "            current_model_params[param_name] = (1-eps)*prev_model_params[param_name] + eps*current_model_params[param_name]\n",
    "        if do_meta:\n",
    "            model.load_state_dict(current_model_params)\n",
    "        \n",
    "        iter_1_loader, sampled_size = sampling(model, cifar10, save_path)\n",
    "\n"
   ]
  },
  {
   "cell_type": "code",
   "execution_count": 22,
   "metadata": {},
   "outputs": [],
   "source": [
    "#summary(model_mynet_ft, (3,32,32))"
   ]
  },
  {
   "cell_type": "markdown",
   "metadata": {},
   "source": [
    "# Experiments:\n",
    "1. train the model on Balanced dataset, record the performance\n",
    "2. train the model on imbalanced dataset, record the performance\n",
    "3. train the model on imbalanced dataset, with iterative learning strategy\n",
    "4. train the model on imbalanced dataset, with meta iterative learning strategy # do_mate=True\n",
    "\n",
    "set the eps from 0.1 to 0.9. step size = 0.1, Record the best.\n",
    "\n",
    "set the inner epochs from 5 to 20, step size=5.\n",
    "\n",
    "use the accuracy, precision, recall, f1 score to measure the final performance. The detailed information is here.https://scikit-learn.org/stable/modules/classes.html#module-sklearn.metrics\n",
    "\n",
    "\n",
    "## Each experiments run 5 times. Record the mean and variance of each metrics.\n",
    "\n",
    "### The most important thing: Reset the model parameters before excuting the steps.\n",
    "\n",
    "Fixed hyperparameters: the transformation step is fixed.\n",
    "    Total epoch = 50, pretrained_epochs=20, lr=1e-4\n",
    "Flexible hyperparameters: \n",
    "    eps, inner_epochs, \n",
    " "
   ]
  },
  {
   "cell_type": "code",
   "execution_count": 23,
   "metadata": {},
   "outputs": [
    {
     "name": "stdout",
     "output_type": "stream",
     "text": [
      "Epoch 0/20\n",
      "----------\n",
      "train Loss: 1.2329 Acc: 0.5762\n",
      "test Acc: 0.3366\n",
      "Testing complete in 0m 2s\n",
      "Epoch 1/20\n",
      "----------\n",
      "train Loss: 0.9288 Acc: 0.6825\n",
      "test Acc: 0.4925\n",
      "Testing complete in 0m 2s\n",
      "Epoch 2/20\n",
      "----------\n",
      "train Loss: 0.7565 Acc: 0.7424\n",
      "test Acc: 0.5739\n",
      "Testing complete in 0m 2s\n",
      "Epoch 3/20\n",
      "----------\n",
      "train Loss: 0.6482 Acc: 0.7795\n",
      "test Acc: 0.6155\n",
      "Testing complete in 0m 2s\n",
      "Epoch 4/20\n",
      "----------\n",
      "train Loss: 0.5503 Acc: 0.8163\n",
      "test Acc: 0.6476\n",
      "Testing complete in 0m 2s\n",
      "Epoch 5/20\n",
      "----------\n",
      "train Loss: 0.4750 Acc: 0.8416\n",
      "test Acc: 0.6472\n",
      "Testing complete in 0m 2s\n",
      "Epoch 6/20\n",
      "----------\n",
      "train Loss: 0.4100 Acc: 0.8624\n",
      "test Acc: 0.6635\n",
      "Testing complete in 0m 2s\n",
      "Epoch 7/20\n",
      "----------\n",
      "train Loss: 0.3453 Acc: 0.8870\n",
      "test Acc: 0.6997\n",
      "Testing complete in 0m 2s\n",
      "Epoch 8/20\n",
      "----------\n",
      "train Loss: 0.2922 Acc: 0.9036\n",
      "test Acc: 0.7138\n",
      "Testing complete in 0m 2s\n",
      "Epoch 9/20\n",
      "----------\n",
      "train Loss: 0.2552 Acc: 0.9147\n",
      "test Acc: 0.6581\n",
      "Testing complete in 0m 2s\n",
      "Epoch 10/20\n",
      "----------\n",
      "train Loss: 0.2148 Acc: 0.9279\n",
      "test Acc: 0.6650\n",
      "Testing complete in 0m 2s\n",
      "Epoch 11/20\n",
      "----------\n",
      "train Loss: 0.1870 Acc: 0.9375\n",
      "test Acc: 0.6479\n",
      "Testing complete in 0m 2s\n",
      "Epoch 12/20\n",
      "----------\n",
      "train Loss: 0.1608 Acc: 0.9480\n",
      "test Acc: 0.7153\n",
      "Testing complete in 0m 3s\n",
      "Epoch 13/20\n",
      "----------\n",
      "train Loss: 0.1467 Acc: 0.9495\n",
      "test Acc: 0.7030\n",
      "Testing complete in 0m 3s\n",
      "Epoch 14/20\n",
      "----------\n",
      "train Loss: 0.1200 Acc: 0.9594\n",
      "test Acc: 0.6963\n",
      "Testing complete in 0m 2s\n",
      "Epoch 15/20\n",
      "----------\n",
      "train Loss: 0.1160 Acc: 0.9621\n",
      "test Acc: 0.6622\n",
      "Testing complete in 0m 2s\n",
      "Epoch 16/20\n",
      "----------\n",
      "train Loss: 0.1123 Acc: 0.9611\n",
      "test Acc: 0.6732\n",
      "Testing complete in 0m 2s\n",
      "Epoch 17/20\n",
      "----------\n",
      "train Loss: 0.0993 Acc: 0.9667\n",
      "test Acc: 0.6864\n",
      "Testing complete in 0m 2s\n",
      "Epoch 18/20\n",
      "----------\n",
      "train Loss: 0.0891 Acc: 0.9698\n",
      "test Acc: 0.6838\n",
      "Testing complete in 0m 2s\n",
      "Epoch 19/20\n",
      "----------\n",
      "train Loss: 0.0854 Acc: 0.9712\n",
      "test Acc: 0.6690\n",
      "Testing complete in 0m 2s\n",
      "\n",
      "Training complete in 4m 1s\n",
      "test Acc: 0.6690\n",
      "Testing complete in 0m 2s\n",
      "Files already downloaded and verified\n",
      "Epoch 0/10\n",
      "----------\n",
      "train Loss: 0.2216 Acc: 0.9270\n",
      "test Acc: 0.6795\n",
      "Testing complete in 0m 2s\n",
      "Epoch 1/10\n",
      "----------\n",
      "train Loss: 0.0684 Acc: 0.9792\n",
      "test Acc: 0.7430\n",
      "Testing complete in 0m 2s\n",
      "Epoch 2/10\n",
      "----------\n",
      "train Loss: 0.0479 Acc: 0.9851\n",
      "test Acc: 0.7128\n",
      "Testing complete in 0m 2s\n",
      "Epoch 3/10\n",
      "----------\n",
      "train Loss: 0.0443 Acc: 0.9838\n",
      "test Acc: 0.6918\n",
      "Testing complete in 0m 2s\n",
      "Epoch 4/10\n",
      "----------\n",
      "train Loss: 0.0406 Acc: 0.9861\n",
      "test Acc: 0.7353\n",
      "Testing complete in 0m 3s\n",
      "Epoch 5/10\n",
      "----------\n",
      "train Loss: 0.0470 Acc: 0.9855\n",
      "test Acc: 0.7015\n",
      "Testing complete in 0m 2s\n",
      "Epoch 6/10\n",
      "----------\n",
      "train Loss: 0.0446 Acc: 0.9854\n",
      "test Acc: 0.6584\n",
      "Testing complete in 0m 3s\n",
      "Epoch 7/10\n",
      "----------\n",
      "train Loss: 0.0693 Acc: 0.9747\n",
      "test Acc: 0.7115\n",
      "Testing complete in 0m 3s\n",
      "Epoch 8/10\n",
      "----------\n",
      "train Loss: 0.0381 Acc: 0.9874\n",
      "test Acc: 0.7486\n",
      "Testing complete in 0m 2s\n",
      "Epoch 9/10\n",
      "----------\n",
      "train Loss: 0.0230 Acc: 0.9914\n",
      "test Acc: 0.7084\n",
      "Testing complete in 0m 2s\n",
      "\n",
      "Training complete in 0m 56s\n",
      "test Acc: 0.7084\n",
      "Testing complete in 0m 3s\n",
      "Epoch 0/10\n",
      "----------\n",
      "train Loss: 0.2524 Acc: 0.9215\n",
      "test Acc: 0.7038\n",
      "Testing complete in 0m 3s\n",
      "Epoch 1/10\n",
      "----------\n",
      "train Loss: 0.0746 Acc: 0.9747\n",
      "test Acc: 0.7290\n",
      "Testing complete in 0m 2s\n",
      "Epoch 2/10\n",
      "----------\n",
      "train Loss: 0.0392 Acc: 0.9871\n",
      "test Acc: 0.7203\n",
      "Testing complete in 0m 2s\n",
      "Epoch 3/10\n",
      "----------\n",
      "train Loss: 0.0244 Acc: 0.9926\n",
      "test Acc: 0.7115\n",
      "Testing complete in 0m 2s\n",
      "Epoch 4/10\n",
      "----------\n",
      "train Loss: 0.0298 Acc: 0.9917\n",
      "test Acc: 0.7408\n",
      "Testing complete in 0m 3s\n",
      "Epoch 5/10\n",
      "----------\n",
      "train Loss: 0.0471 Acc: 0.9835\n",
      "test Acc: 0.7176\n",
      "Testing complete in 0m 3s\n",
      "Epoch 6/10\n",
      "----------\n",
      "train Loss: 0.0457 Acc: 0.9861\n",
      "test Acc: 0.7047\n",
      "Testing complete in 0m 2s\n",
      "Epoch 7/10\n",
      "----------\n",
      "train Loss: 0.0429 Acc: 0.9864\n",
      "test Acc: 0.7339\n",
      "Testing complete in 0m 3s\n",
      "Epoch 8/10\n",
      "----------\n",
      "train Loss: 0.0278 Acc: 0.9915\n",
      "test Acc: 0.7342\n",
      "Testing complete in 0m 2s\n",
      "Epoch 9/10\n",
      "----------\n",
      "train Loss: 0.0397 Acc: 0.9874\n",
      "test Acc: 0.7137\n",
      "Testing complete in 0m 2s\n",
      "\n",
      "Training complete in 0m 58s\n",
      "test Acc: 0.7137\n",
      "Testing complete in 0m 2s\n"
     ]
    },
    {
     "ename": "KeyboardInterrupt",
     "evalue": "",
     "output_type": "error",
     "traceback": [
      "\u001b[0;31m---------------------------------------------------------------------------\u001b[0m",
      "\u001b[0;31mKeyboardInterrupt\u001b[0m                         Traceback (most recent call last)",
      "\u001b[0;32m/tmp/ipykernel_42443/378150598.py\u001b[0m in \u001b[0;36m<module>\u001b[0;34m\u001b[0m\n\u001b[1;32m      7\u001b[0m \u001b[0;34m\u001b[0m\u001b[0m\n\u001b[1;32m      8\u001b[0m \u001b[0moptimizer\u001b[0m \u001b[0;34m=\u001b[0m \u001b[0moptim\u001b[0m\u001b[0;34m.\u001b[0m\u001b[0mAdam\u001b[0m\u001b[0;34m(\u001b[0m\u001b[0mmodel1\u001b[0m\u001b[0;34m.\u001b[0m\u001b[0mparameters\u001b[0m\u001b[0;34m(\u001b[0m\u001b[0;34m)\u001b[0m\u001b[0;34m,\u001b[0m \u001b[0mlr\u001b[0m\u001b[0;34m=\u001b[0m\u001b[0;36m1e-4\u001b[0m\u001b[0;34m)\u001b[0m\u001b[0;34m\u001b[0m\u001b[0;34m\u001b[0m\u001b[0m\n\u001b[0;32m----> 9\u001b[0;31m \u001b[0mmodel1\u001b[0m \u001b[0;34m=\u001b[0m \u001b[0mMAL\u001b[0m\u001b[0;34m(\u001b[0m\u001b[0mmodel1\u001b[0m\u001b[0;34m,\u001b[0m \u001b[0mcriterion\u001b[0m\u001b[0;34m,\u001b[0m \u001b[0moptimizer\u001b[0m\u001b[0;34m,\u001b[0m \u001b[0mdo_meta\u001b[0m\u001b[0;34m=\u001b[0m\u001b[0;32mFalse\u001b[0m\u001b[0;34m,\u001b[0m \u001b[0meps\u001b[0m\u001b[0;34m=\u001b[0m\u001b[0;36m0.5\u001b[0m\u001b[0;34m,\u001b[0m\u001b[0mtotal_epochs\u001b[0m\u001b[0;34m=\u001b[0m\u001b[0;36m50\u001b[0m\u001b[0;34m,\u001b[0m \u001b[0mpretrained_epochs\u001b[0m\u001b[0;34m=\u001b[0m\u001b[0;36m20\u001b[0m\u001b[0;34m,\u001b[0m\u001b[0minner_epochs\u001b[0m\u001b[0;34m=\u001b[0m\u001b[0;36m10\u001b[0m\u001b[0;34m,\u001b[0m \u001b[0msave_path\u001b[0m\u001b[0;34m=\u001b[0m\u001b[0;34m'AL.pth'\u001b[0m\u001b[0;34m)\u001b[0m\u001b[0;34m\u001b[0m\u001b[0;34m\u001b[0m\u001b[0m\n\u001b[0m\u001b[1;32m     10\u001b[0m \u001b[0;31m#train_model(model1, criterion, optimizer, 100, dataloaders, len(image_datasets['train']))\u001b[0m\u001b[0;34m\u001b[0m\u001b[0;34m\u001b[0m\u001b[0m\n",
      "\u001b[0;32m/tmp/ipykernel_42443/2978869549.py\u001b[0m in \u001b[0;36mMAL\u001b[0;34m(model, criterion, optimizer, do_meta, eps, total_epochs, pretrained_epochs, inner_epochs, save_path)\u001b[0m\n\u001b[1;32m     25\u001b[0m             \u001b[0mmodel\u001b[0m\u001b[0;34m.\u001b[0m\u001b[0mload_state_dict\u001b[0m\u001b[0;34m(\u001b[0m\u001b[0mcurrent_model_params\u001b[0m\u001b[0;34m)\u001b[0m\u001b[0;34m\u001b[0m\u001b[0;34m\u001b[0m\u001b[0m\n\u001b[1;32m     26\u001b[0m \u001b[0;34m\u001b[0m\u001b[0m\n\u001b[0;32m---> 27\u001b[0;31m         \u001b[0miter_1_loader\u001b[0m\u001b[0;34m,\u001b[0m \u001b[0msampled_size\u001b[0m \u001b[0;34m=\u001b[0m \u001b[0msampling\u001b[0m\u001b[0;34m(\u001b[0m\u001b[0mmodel\u001b[0m\u001b[0;34m,\u001b[0m \u001b[0mcifar10\u001b[0m\u001b[0;34m,\u001b[0m \u001b[0msave_path\u001b[0m\u001b[0;34m)\u001b[0m\u001b[0;34m\u001b[0m\u001b[0;34m\u001b[0m\u001b[0m\n\u001b[0m\u001b[1;32m     28\u001b[0m \u001b[0;34m\u001b[0m\u001b[0m\n",
      "\u001b[0;32m/tmp/ipykernel_42443/1522574264.py\u001b[0m in \u001b[0;36msampling\u001b[0;34m(model, dataset, load_path)\u001b[0m\n\u001b[1;32m     60\u001b[0m \u001b[0;34m\u001b[0m\u001b[0m\n\u001b[1;32m     61\u001b[0m     \u001b[0;32mfor\u001b[0m \u001b[0mi\u001b[0m \u001b[0;32min\u001b[0m \u001b[0mclass_to_samples\u001b[0m\u001b[0;34m:\u001b[0m\u001b[0;34m\u001b[0m\u001b[0;34m\u001b[0m\u001b[0m\n\u001b[0;32m---> 62\u001b[0;31m         \u001b[0mclass_to_samples\u001b[0m\u001b[0;34m[\u001b[0m\u001b[0mi\u001b[0m\u001b[0;34m]\u001b[0m \u001b[0;34m=\u001b[0m \u001b[0msorted\u001b[0m\u001b[0;34m(\u001b[0m\u001b[0mclass_to_samples\u001b[0m\u001b[0;34m[\u001b[0m\u001b[0mi\u001b[0m\u001b[0;34m]\u001b[0m\u001b[0;34m,\u001b[0m \u001b[0mkey\u001b[0m\u001b[0;34m=\u001b[0m\u001b[0mitemgetter\u001b[0m\u001b[0;34m(\u001b[0m\u001b[0;36m2\u001b[0m\u001b[0;34m)\u001b[0m\u001b[0;34m)\u001b[0m\u001b[0;34m\u001b[0m\u001b[0;34m\u001b[0m\u001b[0m\n\u001b[0m\u001b[1;32m     63\u001b[0m \u001b[0;34m\u001b[0m\u001b[0m\n\u001b[1;32m     64\u001b[0m     \u001b[0;32mfor\u001b[0m \u001b[0mi\u001b[0m \u001b[0;32min\u001b[0m \u001b[0mclass_to_samples\u001b[0m\u001b[0;34m:\u001b[0m\u001b[0;34m\u001b[0m\u001b[0;34m\u001b[0m\u001b[0m\n",
      "\u001b[0;31mKeyboardInterrupt\u001b[0m: "
     ]
    },
    {
     "data": {
      "image/png": "[encoded data removed]",
      "text/plain": [
       "<Figure size 432x288 with 1 Axes>"
      ]
     },
     "metadata": {
      "needs_background": "light"
     },
     "output_type": "display_data"
    }
   ],
   "source": [
    "criterion = nn.CrossEntropyLoss()\n",
    "\n",
    "#model_mynet_ft = train_model(model_mynet_ft, criterion, optimizer, 1, dataloaders, len(image_datasets['train']))\n",
    "\n",
    "model1 = MyNet()\n",
    "model1 = model1.to(device)\n",
    "\n",
    "optimizer = optim.Adam(model1.parameters(), lr=1e-4)\n",
    "model1 = MAL(model1, criterion, optimizer, do_meta=False, eps=0.5,total_epochs=50, pretrained_epochs=20,inner_epochs=10, save_path='AL.pth')\n",
    "#train_model(model1, criterion, optimizer, 100, dataloaders, len(image_datasets['train']))"
   ]
  },
  {
   "cell_type": "code",
   "execution_count": 25,
   "metadata": {},
   "outputs": [
    {
     "name": "stdout",
     "output_type": "stream",
     "text": [
      "test Acc: 0.7137\n",
      "Testing complete in 0m 2s\n"
     ]
    },
    {
     "data": {
      "text/plain": [
       "tensor(0.7137, device='cuda:0', dtype=torch.float64)"
      ]
     },
     "execution_count": 25,
     "metadata": {},
     "output_type": "execute_result"
    }
   ],
   "source": [
    "test_model(model1, \"AL.pth\")\n"
   ]
  },
  {
   "cell_type": "code",
   "execution_count": 26,
   "metadata": {},
   "outputs": [],
   "source": [
    "AL_acc = gen_accuracy_per_cls(model1, 'AL.pth')\n",
    "for i in range(len(AL_acc)):\n",
    "     AL_acc[i] = AL_acc[i] / 1000\n",
    "    \n",
    "MAL_acc = gen_accuracy_per_cls(model1, 'MAL.pth' )\n",
    "for i in range(len(MAL_acc)):\n",
    "     MAL_acc[i] = MAL_acc[i] / 1000\n"
   ]
  },
  {
   "cell_type": "code",
   "execution_count": 27,
   "metadata": {},
   "outputs": [
    {
     "data": {
      "text/plain": [
       "{0: 0.932,\n",
       " 1: 0.943,\n",
       " 2: 0.709,\n",
       " 3: 0.557,\n",
       " 4: 0.805,\n",
       " 5: 0.525,\n",
       " 6: 0.782,\n",
       " 7: 0.719,\n",
       " 8: 0.622,\n",
       " 9: 0.543}"
      ]
     },
     "execution_count": 27,
     "metadata": {},
     "output_type": "execute_result"
    }
   ],
   "source": [
    "AL_acc"
   ]
  },
  {
   "cell_type": "code",
   "execution_count": 28,
   "metadata": {},
   "outputs": [
    {
     "data": {
      "text/plain": [
       "{0: 0.875,\n",
       " 1: 0.974,\n",
       " 2: 0.791,\n",
       " 3: 0.702,\n",
       " 4: 0.755,\n",
       " 5: 0.553,\n",
       " 6: 0.806,\n",
       " 7: 0.652,\n",
       " 8: 0.713,\n",
       " 9: 0.575}"
      ]
     },
     "execution_count": 28,
     "metadata": {},
     "output_type": "execute_result"
    }
   ],
   "source": [
    "MAL_acc"
   ]
  },
  {
   "cell_type": "code",
   "execution_count": 31,
   "metadata": {},
   "outputs": [
    {
     "data": {
      "image/png": "[encoded data removed]",
      "text/plain": [
       "<Figure size 432x288 with 1 Axes>"
      ]
     },
     "metadata": {
      "needs_background": "light"
     },
     "output_type": "display_data"
    }
   ],
   "source": [
    "X = [i for i in range(10)]\n",
    "\n",
    "AL = [AL_acc[i] for i in AL_acc]\n",
    "MAL = [MAL_acc[i] for i in MAL_acc]\n",
    "  \n",
    "X_axis = np.arange(len(X))\n",
    "  \n",
    "plt.bar(X_axis - 0.2, AL, 0.4, label = 'AL')\n",
    "plt.bar(X_axis + 0.2, MAL, 0.4, label = 'MAL')\n",
    "\n",
    "\n",
    "plt.xticks(X_axis, X)\n",
    "plt.xlabel(\"class label\" )\n",
    "plt.ylabel('top-1 accuracy')\n",
    "plt.title('Per-Class Top 1 Accuracy for AL and MAL \\n with Imbalanced CIFAR10')\n",
    "plt.legend()\n",
    "plt.tight_layout()\n",
    "plt.savefig('/home/thafarma/figures/figures/AL_MAL')\n",
    "plt.show()"
   ]
  },
  {
   "cell_type": "code",
   "execution_count": null,
   "metadata": {},
   "outputs": [],
   "source": []
  },
  {
   "cell_type": "code",
   "execution_count": null,
   "metadata": {},
   "outputs": [],
   "source": [
    "balanced = {0: 0.919,\n",
    " 1: 0.947,\n",
    " 2: 0.821,\n",
    " 3: 0.769,\n",
    " 4: 0.846,\n",
    " 5: 0.787,\n",
    " 6: 0.925,\n",
    " 7: 0.928,\n",
    " 8: 0.934,\n",
    " 9: 0.927}"
   ]
  },
  {
   "cell_type": "code",
   "execution_count": null,
   "metadata": {},
   "outputs": [],
   "source": []
  }
 ],
 "metadata": {
  "colab": {
   "collapsed_sections": [],
   "name": "Project_Image_Classification.ipynb",
   "provenance": [],
   "toc_visible": true,
   "version": "0.3.2"
  },
  "kernelspec": {
   "display_name": "Python 3 (ipykernel)",
   "language": "python",
   "name": "python3"
  },
  "language_info": {
   "codemirror_mode": {
    "name": "ipython",
    "version": 3
   },
   "file_extension": ".py",
   "mimetype": "text/x-python",
   "name": "python",
   "nbconvert_exporter": "python",
   "pygments_lexer": "ipython3",
   "version": "3.9.7"
  },
  "pycharm": {
   "stem_cell": {
    "cell_type": "raw",
    "metadata": {
     "collapsed": false
    },
    "source": []
   }
  }
 },
 "nbformat": 4,
 "nbformat_minor": 4
}
